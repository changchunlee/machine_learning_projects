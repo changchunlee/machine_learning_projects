{
 "cells": [
  {
   "cell_type": "code",
   "execution_count": 14,
   "metadata": {},
   "outputs": [],
   "source": [
    "class Solution:\n",
    "    def set_intersection(self, set1, set2):\n",
    "        return [x for x in set1 if x in set2]\n",
    "        \n",
    "    def intersection(self, nums1, nums2):\n",
    "        \"\"\"\n",
    "        :type nums1: List[int]\n",
    "        :type nums2: List[int]\n",
    "        :rtype: List[int]\n",
    "        \"\"\"  \n",
    "        set1 = set(nums1)\n",
    "        set2 = set(nums2)\n",
    "        \n",
    "        if len(set1) < len(set2):\n",
    "            return self.set_intersection(set1, set2)\n",
    "        else:\n",
    "            return self.set_intersection(set2, set1)"
   ]
  },
  {
   "cell_type": "code",
   "execution_count": 16,
   "metadata": {},
   "outputs": [],
   "source": [
    "class Solution:\n",
    "    def set_intersection(self, set1, set2):\n",
    "        return [x for x in set1 if x in set2]\n",
    "        \n",
    "    def intersection(self, nums1, nums2):\n",
    "        \"\"\"\n",
    "        :type nums1: List[int]\n",
    "        :type nums2: List[int]\n",
    "        :rtype: List[int]\n",
    "        \"\"\"  \n",
    "        set1 = set(nums1)\n",
    "        set2 = set(nums2)\n",
    "        \n",
    "        return self.set_intersection(set1, set2)"
   ]
  },
  {
   "cell_type": "code",
   "execution_count": 22,
   "metadata": {},
   "outputs": [],
   "source": [
    "class Solution2:\n",
    "    def set_intersection(self, set1, set2):\n",
    "        return [x for x in set1 if x in set2]\n",
    "        \n",
    "    def intersection(self, nums1, nums2):\n",
    "        \"\"\"\n",
    "        :type nums1: List[int]\n",
    "        :type nums2: List[int]\n",
    "        :rtype: List[int]\n",
    "        \"\"\"  \n",
    "        set1 = set(nums1)\n",
    "        set2 = set(nums2)\n",
    "        \n",
    "        return [x for x in set1 if x in set2]"
   ]
  },
  {
   "cell_type": "code",
   "execution_count": 23,
   "metadata": {},
   "outputs": [
    {
     "data": {
      "text/plain": [
       "[9, 4]"
      ]
     },
     "execution_count": 23,
     "metadata": {},
     "output_type": "execute_result"
    }
   ],
   "source": [
    "nums1 = [4,9,5]\n",
    "nums2 = [9,4,9,8,4]\n",
    "\n",
    "t1=Solution2()\n",
    "t1.intersection(nums1, nums2)"
   ]
  },
  {
   "cell_type": "code",
   "execution_count": null,
   "metadata": {},
   "outputs": [],
   "source": []
  },
  {
   "cell_type": "code",
   "execution_count": null,
   "metadata": {},
   "outputs": [],
   "source": []
  },
  {
   "cell_type": "code",
   "execution_count": null,
   "metadata": {},
   "outputs": [],
   "source": []
  },
  {
   "cell_type": "code",
   "execution_count": 31,
   "metadata": {},
   "outputs": [],
   "source": [
    "def nth_prime_number(n):\n",
    "    # initial prime number list\n",
    "    prime_list = [2]\n",
    "    # first number to test if prime\n",
    "    num = 3\n",
    "    # keep generating primes until we get to the nth one\n",
    "    while len(prime_list) < n:\n",
    "\n",
    "        # check if num is divisible by any prime before it\n",
    "        for p in prime_list:\n",
    "            # if there is no remainder dividing the number\n",
    "            # then the number is not a prime\n",
    "            if num % p == 0:\n",
    "                # break to stop testing more numbers, we know it's not a prime\n",
    "                break\n",
    "\n",
    "        # if it is a prime, then add it to the list\n",
    "        # after a for loop, else runs if the \"break\" command has not been given\n",
    "        else:\n",
    "            # append to prime list\n",
    "            prime_list.append(num)\n",
    "\n",
    "        # same optimization you had, don't check even numbers\n",
    "        num += 2\n",
    "\n",
    "    # return the last prime number generated\n",
    "    return prime_list[-1]"
   ]
  },
  {
   "cell_type": "code",
   "execution_count": 32,
   "metadata": {},
   "outputs": [
    {
     "data": {
      "text/plain": [
       "197"
      ]
     },
     "execution_count": 32,
     "metadata": {},
     "output_type": "execute_result"
    }
   ],
   "source": [
    "nth_prime_number(45)"
   ]
  },
  {
   "cell_type": "code",
   "execution_count": null,
   "metadata": {},
   "outputs": [],
   "source": []
  },
  {
   "cell_type": "code",
   "execution_count": null,
   "metadata": {},
   "outputs": [],
   "source": []
  },
  {
   "cell_type": "code",
   "execution_count": null,
   "metadata": {},
   "outputs": [],
   "source": []
  },
  {
   "cell_type": "code",
   "execution_count": 39,
   "metadata": {},
   "outputs": [
    {
     "name": "stdout",
     "output_type": "stream",
     "text": [
      "2\n",
      "4\n",
      "3\n",
      "Element is present at index  3\n"
     ]
    }
   ],
   "source": [
    "\n",
    "# Python code to implement iterative Binary  \n",
    "# Search. \n",
    "  \n",
    "# It returns location of x in given array arr  \n",
    "# if present, else returns -1 \n",
    "def binarySearch(arr, l, r, x): \n",
    "  \n",
    "    while l <= r: \n",
    "  \n",
    "        mid = int(l + (r - l)/2); \n",
    "        print(mid)\n",
    "    \n",
    "        # Check if x is present at mid \n",
    "        if arr[mid] == x: \n",
    "            return mid \n",
    "  \n",
    "        # If x is greater, ignore left half \n",
    "        elif arr[mid] < x: \n",
    "            l = mid + 1\n",
    "  \n",
    "        # If x is smaller, ignore right half \n",
    "        else: \n",
    "            r = mid - 1\n",
    "      \n",
    "    # If we reach here, then the element \n",
    "    # was not present \n",
    "    return -1\n",
    "\n",
    "\n",
    "# Test array \n",
    "arr = [ 2, 3, 4, 10, 40,50] \n",
    "x = 10\n",
    "  \n",
    "# Function call \n",
    "result = binarySearch(arr, 0, len(arr)-1, x) \n",
    "  \n",
    "if result != -1: \n",
    "    print(\"Element is present at index % d\" % result)\n",
    "else: \n",
    "    print(\"Element is not present in array\")\n"
   ]
  },
  {
   "cell_type": "code",
   "execution_count": null,
   "metadata": {},
   "outputs": [],
   "source": []
  }
 ],
 "metadata": {
  "kernelspec": {
   "display_name": "Python 3",
   "language": "python",
   "name": "python3"
  },
  "language_info": {
   "codemirror_mode": {
    "name": "ipython",
    "version": 3
   },
   "file_extension": ".py",
   "mimetype": "text/x-python",
   "name": "python",
   "nbconvert_exporter": "python",
   "pygments_lexer": "ipython3",
   "version": "3.7.3"
  }
 },
 "nbformat": 4,
 "nbformat_minor": 2
}
