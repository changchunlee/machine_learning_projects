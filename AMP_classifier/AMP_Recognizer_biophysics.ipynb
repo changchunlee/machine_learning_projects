{
 "cells": [
  {
   "cell_type": "markdown",
   "metadata": {},
   "source": [
    "# Antimicrobial peptide (AMP) recognition using deep learning"
   ]
  },
  {
   "cell_type": "markdown",
   "metadata": {},
   "source": [
    "[Peptide](https://en.wikipedia.org/wiki/Peptide) are short chains of [amino acid](https://en.wikipedia.org/wiki/Amino_acid) linked by peptide bonds. Among them, [antimicrobial peptides (AMP)](https://en.wikipedia.org/wiki/Antimicrobial_peptides) are part of the innate immune response found among all classes of life, and have been demonstrated to kill Gram negative and Gram positive bacteria, enveloped viruses, fungi and even transformed or cancerous cells. <br>\n",
    "One of the research interest in our lab is to understand the mechanism of the peptide and lipid membrane interaction. We are especially interested in AMP peptide and lipid membrane interaction, and have studied many of them to understand the mechanism how AMP peptides kill bacteria by forming different types of pores on bacterias's membrane ([Toroidal vs. Barrel Stave Model](https://hwhuang.rice.edu/toroidalModelVsBarrelStave.html)). <br>"
   ]
  },
  {
   "cell_type": "markdown",
   "metadata": {},
   "source": [
    "## What we want to achieve in this work?\n",
    "There are two goals we want to achieve using DNN:<br>\n",
    "(1) To recognize if a given peptide is a AMP peptide or not<br>\n",
    "(2) To classfy what kind of pores (Toroidal or Barrel Stave) will be formed on bacteria membrane for a given AMP peptide. <br>\n",
    "We're using deep learning to recognize AMP peptides inspired by the work of Daniel Veltri (see reference below). "
   ]
  },
  {
   "cell_type": "markdown",
   "metadata": {},
   "source": [
    "<img src=\"https://www.dveltri.com/ascan/images/DNNv2.png\" width=\"900\">\n",
    "Image from Daniel Veltri (see reference below)<br>"
   ]
  },
  {
   "cell_type": "code",
   "execution_count": 2,
   "metadata": {},
   "outputs": [],
   "source": [
    "#import necessay module\n",
    "import numpy as np\n",
    "import pandas as pd\n",
    "import matplotlib.pyplot as plt\n",
    "from keras import losses\n",
    "from keras.models import Sequential\n",
    "from keras.layers import Embedding, Dense, Flatten, Dropout, LSTM, MaxPooling1D, BatchNormalization, Bidirectional, Conv1D\n",
    "from keras.optimizers import RMSprop, Adam\n",
    "from keras.callbacks import ReduceLROnPlateau\n",
    "from sklearn.model_selection import KFold, train_test_split, StratifiedKFold\n",
    "from sklearn.metrics import mean_absolute_error, confusion_matrix, f1_score"
   ]
  },
  {
   "cell_type": "markdown",
   "metadata": {},
   "source": [
    "## Data loading\n",
    "The sequences of AMP and non-AMP peptides were downloaded from database of Daniel Veltri. There are 1778 samples for each group.  "
   ]
  },
  {
   "cell_type": "code",
   "execution_count": 3,
   "metadata": {},
   "outputs": [
    {
     "name": "stdout",
     "output_type": "stream",
     "text": [
      "Number of AMP samples: 1778\n",
      "One AMP sequence (pad X at beginning to make its length 200): \n",
      "XXXXXXXXXXXXXXXXXXXXXXXXXXXXXXXXXXXXXXXXXXXXXXXXXXXXXXXXXXXXXXXXXXXXXXXXXXXXXXXXXXXXXXXXXXXXXXXXXXXXXXXXXXXXXXXXXXXXXXXXXXXXXXXXXXXXXXXXXXXXXXXXXXXXXXXXXXXXXXXXXXXXXXXGILDTLKNLAISAAKGAAQGLVNKASCKLSGQC\n"
     ]
    }
   ],
   "source": [
    "#loading sequences of AMP peptide \n",
    "files=['AMP.eval.fa', 'AMP.te.fa', 'AMP.tr.fa']\n",
    "names=['eval', 'te', 'tr']\n",
    "\n",
    "for file, name in zip(files, names):\n",
    "    globals()['amp_array_' + name] =[]\n",
    "    with open(file) as fp:  \n",
    "        for cnt, line in enumerate(fp):\n",
    "            line=line.strip('\\n')\n",
    "            if line[0]!='>':\n",
    "                #padding X(unknown) in front of each peptide sequence to make uniform length 200\n",
    "                while len(line)<200:\n",
    "                    line='X'+line\n",
    "                globals()['amp_array_' + name].append(line)\n",
    "                \n",
    "amp_array_all = amp_array_eval + amp_array_te + amp_array_tr\n",
    "print('Number of AMP samples: {}'.format(len(amp_array_all)))\n",
    "print('One AMP sequence (pad X at beginning to make its length 200): ')\n",
    "print(amp_array_all[np.random.randint(len(amp_array_all))])"
   ]
  },
  {
   "cell_type": "code",
   "execution_count": 4,
   "metadata": {},
   "outputs": [
    {
     "name": "stdout",
     "output_type": "stream",
     "text": [
      "Number of non-AMP samples: 1778\n",
      "One non-AMP sequence (pad X at beginning to make its length 200):\n",
      "XXXXXXXXXXXXXXXXXXXXXXXXXXXXXXXXXXXXXXXXXXXXXXXXXXXXXXXXXXXXXXXXXXXXXXXXXXXXXXXXXXXXXXXXXXXXXXXXXXXXXXXXXXXXXXXXXXXXXXXXXXXXXXXXXXXXXXXXXXXXXXXXXXXXXXXXXXXXXXXXXXXXXXXXXXXXXXXXXXXLSQYLHAEVIPNFVKSLSEPS\n"
     ]
    }
   ],
   "source": [
    "#loading sequences of non-AMP peptide \n",
    "files=['DECOY.eval.fa', 'DECOY.te.fa', 'DECOY.tr.fa']\n",
    "names=['eval', 'te', 'tr']\n",
    "\n",
    "for file, name in zip(files, names):\n",
    "    globals()['decoy_array_' + name] =[]\n",
    "    with open(file) as fp:  \n",
    "        for cnt, line in enumerate(fp):\n",
    "            line=line.strip('\\n')\n",
    "            if line[0]!='>':\n",
    "                #padding X(unknown) in front of each peptide sequence to make uniform length 200\n",
    "                while len(line)<200:\n",
    "                    line='X'+line\n",
    "                globals()['decoy_array_' + name].append(line)\n",
    "                \n",
    "decoy_array_all = decoy_array_eval + decoy_array_te + decoy_array_tr\n",
    "print('Number of non-AMP samples: {}'.format(len(decoy_array_all)))\n",
    "print('One non-AMP sequence (pad X at beginning to make its length 200):')\n",
    "print(decoy_array_all[np.random.randint(len(decoy_array_all))])"
   ]
  },
  {
   "cell_type": "markdown",
   "metadata": {},
   "source": [
    "Let's take a look on the amino acid histogram for AMP and non-AMP.  The first look on these graphs tells us AMP is more likely to have Cysteine (C) in the sequence than non-AMP"
   ]
  },
  {
   "cell_type": "code",
   "execution_count": 5,
   "metadata": {},
   "outputs": [
    {
     "data": {
      "text/plain": [
       "<matplotlib.axes._subplots.AxesSubplot at 0x23dd577d400>"
      ]
     },
     "execution_count": 5,
     "metadata": {},
     "output_type": "execute_result"
    },
    {
     "data": {
      "image/png": "[encoded data removed]",
      "text/plain": [
       "<Figure size 432x288 with 1 Axes>"
      ]
     },
     "metadata": {
      "needs_background": "light"
     },
     "output_type": "display_data"
    }
   ],
   "source": [
    "#plot amino acid (AA) histogram for AMP\n",
    "temp_amp = []\n",
    "for string in (amp_array_all):\n",
    "    string_list = list(string)\n",
    "    for i in range(len(string_list)):\n",
    "        if string_list[i] != 'X':\n",
    "            temp_amp.append(string_list[i])\n",
    "\n",
    "title = 'Histogram for AMP'\n",
    "pd.Series(temp_amp).value_counts().plot('bar', title=title)"
   ]
  },
  {
   "cell_type": "code",
   "execution_count": 6,
   "metadata": {},
   "outputs": [
    {
     "data": {
      "text/plain": [
       "<matplotlib.axes._subplots.AxesSubplot at 0x23dcbe2cac8>"
      ]
     },
     "execution_count": 6,
     "metadata": {},
     "output_type": "execute_result"
    },
    {
     "data": {
      "image/png": "[encoded data removed]",
      "text/plain": [
       "<Figure size 432x288 with 1 Axes>"
      ]
     },
     "metadata": {
      "needs_background": "light"
     },
     "output_type": "display_data"
    }
   ],
   "source": [
    "#plot amino acid (AA) histogram for non-AMP\n",
    "temp_decoy = []\n",
    "for string in (decoy_array_all):\n",
    "    string_list = list(string)\n",
    "    for i in range(len(string_list)):\n",
    "        if string_list[i] != 'X':\n",
    "            temp_decoy.append(string_list[i])\n",
    "\n",
    "title = 'Histogram for non-AMP'\n",
    "pd.Series(temp_decoy).value_counts().plot('bar', title=title)"
   ]
  },
  {
   "cell_type": "code",
   "execution_count": 7,
   "metadata": {},
   "outputs": [
    {
     "name": "stdout",
     "output_type": "stream",
     "text": [
      "Length of input: 3556\n",
      "Length of label: 3556\n"
     ]
    }
   ],
   "source": [
    "#prepare merged inputs and labe for deep neural network\n",
    "input_array_all_X = amp_array_all + decoy_array_all\n",
    "input_array_all_Y = np.concatenate([np.ones((len(amp_array_all),1), dtype=np.int8), np.zeros((len(decoy_array_all),1), dtype=np.int8)])\n",
    "\n",
    "print('Length of input: {}'.format(len(input_array_all_X)))\n",
    "print('Length of label: {}'.format(len(input_array_all_Y)))"
   ]
  },
  {
   "cell_type": "code",
   "execution_count": 8,
   "metadata": {},
   "outputs": [
    {
     "data": {
      "text/plain": [
       "{'X': 0,\n",
       " 'A': 1,\n",
       " 'C': 2,\n",
       " 'D': 3,\n",
       " 'E': 4,\n",
       " 'F': 5,\n",
       " 'G': 6,\n",
       " 'H': 7,\n",
       " 'I': 8,\n",
       " 'K': 9,\n",
       " 'L': 10,\n",
       " 'M': 11,\n",
       " 'N': 12,\n",
       " 'P': 13,\n",
       " 'Q': 14,\n",
       " 'R': 15,\n",
       " 'S': 16,\n",
       " 'T': 17,\n",
       " 'V': 18,\n",
       " 'W': 19,\n",
       " 'Y': 20}"
      ]
     },
     "execution_count": 8,
     "metadata": {},
     "output_type": "execute_result"
    }
   ],
   "source": [
    "#create dictionary mapping 20 amino acid to different integer and mapping unknow X to 0\n",
    "mapping1 = ['X','A', 'C', 'D', 'E', 'F', 'G', 'H', 'I', 'K', 'L', 'M', 'N', 'P', 'Q', 'R', 'S', 'T', 'V', 'W', 'Y']\n",
    "mapping2 = [i for i in range(21)]\n",
    "mapping = {mapping1[i]:mapping2[i] for i in range(21)}\n",
    "mapping"
   ]
  },
  {
   "cell_type": "code",
   "execution_count": 9,
   "metadata": {},
   "outputs": [],
   "source": [
    "#mapping 21 different amino acid to 21 intergers:\n",
    "input_array_all_X2 = [0] * len(input_array_all_X)\n",
    "for i in range(len(input_array_all_X)):\n",
    "    tmp1=input_array_all_X[i]\n",
    "    tmp2=[]\n",
    "    for j in range(len(tmp1)):\n",
    "        tmp2.append(mapping[tmp1[j]])\n",
    "    input_array_all_X2[i] = np.array(tmp2)\n",
    "input_array_all_X2 = np.array(input_array_all_X2)\n",
    "\n",
    "input_array_all_X2 = pd.DataFrame(input_array_all_X2)\n",
    "input_array_all_Y  = pd.DataFrame(input_array_all_Y)\n"
   ]
  },
  {
   "cell_type": "code",
   "execution_count": 10,
   "metadata": {},
   "outputs": [
    {
     "name": "stdout",
     "output_type": "stream",
     "text": [
      "Mapping peptide sequence:\n",
      "XXXXXXXXXXXXXXXXXXXXXXXXXXXXXXXXXXXXXXXXXXXXXXXXXXXXXXXXXXXXXXXXXXXXXXXXXXXXXXXXXXXXXXXXXXXXXXXXXXXXXXXXXXXXXXXXXXXXXXXXXXXXXXXXXXXXXXXXXXXXXXXXXXXXXXXXXXXXXXXXXXXXXXXXXXXXXXXXWRSLGRTLLRLSHALKPLARRSGW\n",
      "to\n",
      "[ 0  0  0  0  0  0  0  0  0  0  0  0  0  0  0  0  0  0  0  0  0  0  0  0\n",
      "  0  0  0  0  0  0  0  0  0  0  0  0  0  0  0  0  0  0  0  0  0  0  0  0\n",
      "  0  0  0  0  0  0  0  0  0  0  0  0  0  0  0  0  0  0  0  0  0  0  0  0\n",
      "  0  0  0  0  0  0  0  0  0  0  0  0  0  0  0  0  0  0  0  0  0  0  0  0\n",
      "  0  0  0  0  0  0  0  0  0  0  0  0  0  0  0  0  0  0  0  0  0  0  0  0\n",
      "  0  0  0  0  0  0  0  0  0  0  0  0  0  0  0  0  0  0  0  0  0  0  0  0\n",
      "  0  0  0  0  0  0  0  0  0  0  0  0  0  0  0  0  0  0  0  0  0  0  0  0\n",
      "  0  0  0  0  0  0  0  0 19 15 16 10  6 15 17 10 10 15 10 16  7  1 10  9\n",
      " 13 10  1 15 15 16  6 19]\n"
     ]
    }
   ],
   "source": [
    "#check the encoding for one peptide \n",
    "randint = np.random.randint(len(input_array_all_X))\n",
    "print('Mapping peptide sequence:')\n",
    "print(input_array_all_X[randint])\n",
    "print('to')\n",
    "print(input_array_all_X2.iloc[randint].values)\n"
   ]
  },
  {
   "cell_type": "code",
   "execution_count": 11,
   "metadata": {},
   "outputs": [
    {
     "name": "stdout",
     "output_type": "stream",
     "text": [
      "X_train.shape = (2382, 200)\n",
      "X_test.shape = (1174, 200)\n"
     ]
    }
   ],
   "source": [
    "#split data into training data (2/3 of all data) and test data (1/3 of all data)\n",
    "X_train, X_test, Y_train, Y_test = train_test_split(input_array_all_X2, input_array_all_Y, test_size=0.33, random_state=36)\n",
    "\n",
    "print('X_train.shape = {}'.format(X_train.shape))\n",
    "print('X_test.shape = {}'.format(X_test.shape))\n"
   ]
  },
  {
   "cell_type": "markdown",
   "metadata": {},
   "source": [
    "## Build a single DNN\n",
    "Let's build a single DNN to take a quick on the result. "
   ]
  },
  {
   "cell_type": "code",
   "execution_count": 35,
   "metadata": {},
   "outputs": [
    {
     "name": "stdout",
     "output_type": "stream",
     "text": [
      "_________________________________________________________________\n",
      "Layer (type)                 Output Shape              Param #   \n",
      "=================================================================\n",
      "embedding_13 (Embedding)     (None, 200, 128)          2688      \n",
      "_________________________________________________________________\n",
      "conv1d_13 (Conv1D)           (None, 200, 64)           131136    \n",
      "_________________________________________________________________\n",
      "max_pooling1d_13 (MaxPooling (None, 40, 64)            0         \n",
      "_________________________________________________________________\n",
      "lstm_13 (LSTM)               (None, 128)               98816     \n",
      "_________________________________________________________________\n",
      "dense_13 (Dense)             (None, 64)                8256      \n",
      "_________________________________________________________________\n",
      "dense_14 (Dense)             (None, 32)                2080      \n",
      "_________________________________________________________________\n",
      "dense_15 (Dense)             (None, 16)                528       \n",
      "_________________________________________________________________\n",
      "dense_16 (Dense)             (None, 1)                 17        \n",
      "=================================================================\n",
      "Total params: 243,521\n",
      "Trainable params: 243,521\n",
      "Non-trainable params: 0\n",
      "_________________________________________________________________\n"
     ]
    }
   ],
   "source": [
    "#build a single deep neural network model\n",
    "#the DNN uses a mix of convolutional (Conv1D), recurrent long short-term memory (LSTM), and dense layers. \n",
    "model0 = Sequential()\n",
    "#input vectors X are fed to an embedding layer of length 128\n",
    "model0.add(Embedding(21, 128, input_length=200))\n",
    "#Conv1D layer comprised of 64 filters\n",
    "model0.add(Conv1D(filters=64, kernel_size=16, strides=1, padding='same', activation='relu'))\n",
    "#MaxPooling1D layer of size 5 to down-sample\n",
    "model0.add(MaxPooling1D(5))\n",
    "#LSTM layer with 128 units\n",
    "model0.add(LSTM(128, return_sequences = False, unroll=True, stateful=False))\n",
    "#few layers of dense layer\n",
    "model0.add(Dense(64, activation='relu'))\n",
    "model0.add(Dense(32, activation='relu'))\n",
    "model0.add(Dense(16, activation='relu'))\n",
    "#last dense layer with sigmoid activation\n",
    "model0.add(Dense(1, activation='sigmoid'))\n",
    "model0.summary()"
   ]
  },
  {
   "cell_type": "code",
   "execution_count": 36,
   "metadata": {},
   "outputs": [
    {
     "name": "stdout",
     "output_type": "stream",
     "text": [
      "Train on 2382 samples, validate on 1174 samples\n",
      "Epoch 1/15\n",
      "2382/2382 [==============================] - 41s 17ms/step - loss: 0.1469 - acc: 0.7960 - val_loss: 0.0828 - val_acc: 0.8893\n",
      "Epoch 2/15\n",
      "2382/2382 [==============================] - 17s 7ms/step - loss: 0.0893 - acc: 0.8829 - val_loss: 0.0818 - val_acc: 0.8893\n",
      "Epoch 3/15\n",
      "2382/2382 [==============================] - 8s 3ms/step - loss: 0.0756 - acc: 0.9064 - val_loss: 0.0721 - val_acc: 0.8995\n",
      "Epoch 4/15\n",
      "2382/2382 [==============================] - 5s 2ms/step - loss: 0.0633 - acc: 0.9215 - val_loss: 0.0744 - val_acc: 0.8969\n",
      "Epoch 5/15\n",
      "2382/2382 [==============================] - 4s 2ms/step - loss: 0.0545 - acc: 0.9324 - val_loss: 0.0703 - val_acc: 0.9123\n",
      "Epoch 6/15\n",
      "2382/2382 [==============================] - 4s 2ms/step - loss: 0.0485 - acc: 0.9391 - val_loss: 0.0742 - val_acc: 0.9089\n",
      "Epoch 7/15\n",
      "2382/2382 [==============================] - 4s 2ms/step - loss: 0.0472 - acc: 0.9421 - val_loss: 0.0708 - val_acc: 0.9114\n",
      "Epoch 8/15\n",
      "2382/2382 [==============================] - 4s 2ms/step - loss: 0.0354 - acc: 0.9576 - val_loss: 0.0666 - val_acc: 0.9123\n",
      "Epoch 9/15\n",
      "2382/2382 [==============================] - 4s 2ms/step - loss: 0.0308 - acc: 0.9656 - val_loss: 0.0722 - val_acc: 0.9114\n",
      "Epoch 10/15\n",
      "2382/2382 [==============================] - 4s 2ms/step - loss: 0.0285 - acc: 0.9673 - val_loss: 0.0747 - val_acc: 0.8995\n",
      "Epoch 11/15\n",
      "2382/2382 [==============================] - 4s 2ms/step - loss: 0.0241 - acc: 0.9740 - val_loss: 0.1019 - val_acc: 0.8790\n",
      "Epoch 12/15\n",
      "2382/2382 [==============================] - 4s 2ms/step - loss: 0.0347 - acc: 0.9597 - val_loss: 0.0732 - val_acc: 0.9131\n",
      "Epoch 13/15\n",
      "2382/2382 [==============================] - 4s 2ms/step - loss: 0.0170 - acc: 0.9819 - val_loss: 0.0789 - val_acc: 0.9055\n",
      "Epoch 14/15\n",
      "2382/2382 [==============================] - 4s 2ms/step - loss: 0.0207 - acc: 0.9765 - val_loss: 0.1015 - val_acc: 0.8816\n",
      "Epoch 15/15\n",
      "2382/2382 [==============================] - 4s 2ms/step - loss: 0.0234 - acc: 0.9706 - val_loss: 0.0718 - val_acc: 0.9123\n"
     ]
    }
   ],
   "source": [
    "#fit data into single DNN model\n",
    "optimizer = Adam(lr=0.001)\n",
    "model0.compile(optimizer=optimizer, loss=losses.mean_squared_error, metrics=[\"acc\"])\n",
    "\n",
    "history0 = model0.fit(X_train, Y_train, epochs=15, batch_size=32, validation_data=(X_test, Y_test))\n"
   ]
  },
  {
   "cell_type": "code",
   "execution_count": 37,
   "metadata": {},
   "outputs": [
    {
     "data": {
      "image/png": "[encoded data removed]",
      "text/plain": [
       "<Figure size 432x288 with 2 Axes>"
      ]
     },
     "metadata": {
      "needs_background": "light"
     },
     "output_type": "display_data"
    }
   ],
   "source": [
    "# Plot the loss and accuracy curves for training and validation \n",
    "fig, ax = plt.subplots(2,1)\n",
    "ax[0].plot(history0.history['loss'], color='b', label=\"Training loss\")\n",
    "ax[0].plot(history0.history['val_loss'], color='r', label=\"validation loss\",axes =ax[0])\n",
    "legend = ax[0].legend(loc='best', shadow=True)\n",
    "\n",
    "ax[1].plot(history0.history['acc'], color='b', label=\"Training accuracy\")\n",
    "ax[1].plot(history0.history['val_acc'], color='r',label=\"Validation accuracy\")\n",
    "legend = ax[1].legend(loc='best', shadow=True)"
   ]
  },
  {
   "cell_type": "code",
   "execution_count": 38,
   "metadata": {},
   "outputs": [],
   "source": [
    "#define function to calculate different evaluation scores: sensitivity (SENS), specifity (SPEC), accuracy (ACC), and F1 score\n",
    "def evaluation_scores(true_, pred_):\n",
    "    tn, fp, fn, tp = confusion_matrix(true_, pred_).ravel()\n",
    "    print('confusion_matrix:')\n",
    "    print(confusion_matrix(true_, pred_))\n",
    "    print('')\n",
    "\n",
    "    sens = tp/ (tp+fn) * 100\n",
    "    spec = tn/ (tn+fp) * 100\n",
    "    acc  = (tp+tn)/ (tp+fp+tn+fn) *100\n",
    "    f1score = f1_score(true_, pred_)\n",
    "\n",
    "    print('SENS: {:.3f} %'.format(sens))\n",
    "    print('SPEC: {:.3f} %'.format(spec))\n",
    "    print('ACC : {:.3f} %'.format(acc))\n",
    "    print('F1 score: {:.3f}'.format(f1score))"
   ]
  },
  {
   "cell_type": "code",
   "execution_count": 41,
   "metadata": {},
   "outputs": [
    {
     "name": "stdout",
     "output_type": "stream",
     "text": [
      "confusion_matrix:\n",
      "[[559  47]\n",
      " [ 56 512]]\n",
      "\n",
      "SENS: 90.141 %\n",
      "SPEC: 92.244 %\n",
      "ACC : 91.227 %\n",
      "F1 score: 0.909\n"
     ]
    }
   ],
   "source": [
    "#calculate the score for the test dataset using single DNN model\n",
    "predict = model0.predict(X_test)\n",
    "predict2 = np.array([[1] if predict[i][0]>=0.5 else [0] for i in range(len(predict))])\n",
    "\n",
    "#show the evaluation scores\n",
    "evaluation_scores(Y_test, predict2)"
   ]
  },
  {
   "cell_type": "markdown",
   "metadata": {},
   "source": [
    "The prediction result from our single DNN on unseen test dataset looks not bad! Next, let's build a more sophasicated DNN to see if we can further improve the result. "
   ]
  },
  {
   "cell_type": "markdown",
   "metadata": {},
   "source": [
    "## Build 15 deep neural network\n",
    "Here we build 15 deep neural network training on StratifiedKFold training data. "
   ]
  },
  {
   "cell_type": "code",
   "execution_count": 44,
   "metadata": {},
   "outputs": [],
   "source": [
    "#reduce learning rate if the accuracy of evaluation data doesn't not improve after 2 epochs\n",
    "learning_rate_reduction = ReduceLROnPlateau(monitor='val_acc', \n",
    "                                            patience=2, \n",
    "                                            verbose=1, \n",
    "                                            factor=0.3, \n",
    "                                            min_lr=0.000009)"
   ]
  },
  {
   "cell_type": "code",
   "execution_count": 45,
   "metadata": {},
   "outputs": [
    {
     "name": "stdout",
     "output_type": "stream",
     "text": [
      "fold: 1/15\n",
      "Train on 2222 samples, validate on 160 samples\n",
      "Epoch 1/15\n",
      " - 29s - loss: 0.1668 - acc: 0.7529 - val_loss: 0.0882 - val_acc: 0.8812\n",
      "Epoch 2/15\n",
      " - 3s - loss: 0.0936 - acc: 0.8821 - val_loss: 0.0794 - val_acc: 0.9062\n",
      "Epoch 3/15\n",
      " - 3s - loss: 0.0803 - acc: 0.8965 - val_loss: 0.0682 - val_acc: 0.9125\n",
      "Epoch 4/15\n",
      " - 3s - loss: 0.0772 - acc: 0.9014 - val_loss: 0.0620 - val_acc: 0.9125\n",
      "Epoch 5/15\n",
      " - 3s - loss: 0.0642 - acc: 0.9212 - val_loss: 0.0563 - val_acc: 0.9187\n",
      "Epoch 6/15\n",
      " - 3s - loss: 0.0607 - acc: 0.9230 - val_loss: 0.0577 - val_acc: 0.9250\n",
      "Epoch 7/15\n",
      " - 3s - loss: 0.0460 - acc: 0.9428 - val_loss: 0.0655 - val_acc: 0.9187\n",
      "Epoch 8/15\n",
      " - 3s - loss: 0.0491 - acc: 0.9401 - val_loss: 0.0631 - val_acc: 0.9187\n",
      "\n",
      "Epoch 00008: ReduceLROnPlateau reducing learning rate to 0.0003000000142492354.\n",
      "Epoch 9/15\n",
      " - 3s - loss: 0.0319 - acc: 0.9626 - val_loss: 0.0551 - val_acc: 0.9313\n",
      "Epoch 10/15\n",
      " - 4s - loss: 0.0239 - acc: 0.9743 - val_loss: 0.0549 - val_acc: 0.9250\n",
      "Epoch 11/15\n",
      " - 4s - loss: 0.0201 - acc: 0.9779 - val_loss: 0.0544 - val_acc: 0.9437\n",
      "Epoch 12/15\n",
      " - 3s - loss: 0.0185 - acc: 0.9802 - val_loss: 0.0568 - val_acc: 0.9375\n",
      "Epoch 13/15\n",
      " - 3s - loss: 0.0164 - acc: 0.9829 - val_loss: 0.0519 - val_acc: 0.9375\n",
      "\n",
      "Epoch 00013: ReduceLROnPlateau reducing learning rate to 9.000000427477062e-05.\n",
      "Epoch 14/15\n",
      " - 3s - loss: 0.0138 - acc: 0.9847 - val_loss: 0.0592 - val_acc: 0.9250\n",
      "Epoch 15/15\n",
      " - 3s - loss: 0.0126 - acc: 0.9865 - val_loss: 0.0548 - val_acc: 0.9250\n",
      "\n",
      "Epoch 00015: ReduceLROnPlateau reducing learning rate to 2.700000040931627e-05.\n",
      "fold: 2/15\n",
      "Train on 2222 samples, validate on 160 samples\n",
      "Epoch 1/15\n",
      " - 32s - loss: 0.1704 - acc: 0.7426 - val_loss: 0.1257 - val_acc: 0.8250\n",
      "Epoch 2/15\n",
      " - 3s - loss: 0.0942 - acc: 0.8771 - val_loss: 0.1122 - val_acc: 0.8688\n",
      "Epoch 3/15\n",
      " - 3s - loss: 0.0796 - acc: 0.8956 - val_loss: 0.1052 - val_acc: 0.8688\n",
      "Epoch 4/15\n",
      " - 3s - loss: 0.0710 - acc: 0.9041 - val_loss: 0.0935 - val_acc: 0.8688\n",
      "\n",
      "Epoch 00004: ReduceLROnPlateau reducing learning rate to 0.0003000000142492354.\n",
      "Epoch 5/15\n",
      " - 4s - loss: 0.0616 - acc: 0.9217 - val_loss: 0.0950 - val_acc: 0.8625\n",
      "Epoch 6/15\n",
      " - 3s - loss: 0.0563 - acc: 0.9293 - val_loss: 0.0962 - val_acc: 0.8688\n",
      "\n",
      "Epoch 00006: ReduceLROnPlateau reducing learning rate to 9.000000427477062e-05.\n",
      "Epoch 7/15\n",
      " - 3s - loss: 0.0530 - acc: 0.9334 - val_loss: 0.0925 - val_acc: 0.8875\n",
      "Epoch 8/15\n",
      " - 3s - loss: 0.0511 - acc: 0.9379 - val_loss: 0.0927 - val_acc: 0.8875\n",
      "Epoch 9/15\n",
      " - 3s - loss: 0.0499 - acc: 0.9401 - val_loss: 0.0909 - val_acc: 0.8938\n",
      "Epoch 10/15\n",
      " - 3s - loss: 0.0476 - acc: 0.9442 - val_loss: 0.0885 - val_acc: 0.8875\n",
      "Epoch 11/15\n",
      " - 4s - loss: 0.0465 - acc: 0.9464 - val_loss: 0.0909 - val_acc: 0.8938\n",
      "\n",
      "Epoch 00011: ReduceLROnPlateau reducing learning rate to 2.700000040931627e-05.\n",
      "Epoch 12/15\n",
      " - 3s - loss: 0.0447 - acc: 0.9505 - val_loss: 0.0907 - val_acc: 0.9000\n",
      "Epoch 13/15\n",
      " - 3s - loss: 0.0442 - acc: 0.9505 - val_loss: 0.0909 - val_acc: 0.8938\n",
      "Epoch 14/15\n",
      " - 4s - loss: 0.0437 - acc: 0.9514 - val_loss: 0.0900 - val_acc: 0.9000\n",
      "\n",
      "Epoch 00014: ReduceLROnPlateau reducing learning rate to 9e-06.\n",
      "Epoch 15/15\n",
      " - 3s - loss: 0.0431 - acc: 0.9532 - val_loss: 0.0901 - val_acc: 0.9000\n",
      "fold: 3/15\n",
      "Train on 2223 samples, validate on 159 samples\n",
      "Epoch 1/15\n",
      " - 36s - loss: 0.1788 - acc: 0.7373 - val_loss: 0.0778 - val_acc: 0.8994\n",
      "Epoch 2/15\n",
      " - 3s - loss: 0.0946 - acc: 0.8781 - val_loss: 0.0678 - val_acc: 0.9057\n",
      "Epoch 3/15\n",
      " - 3s - loss: 0.0768 - acc: 0.9015 - val_loss: 0.0586 - val_acc: 0.9119\n",
      "Epoch 4/15\n",
      " - 3s - loss: 0.0691 - acc: 0.9127 - val_loss: 0.0551 - val_acc: 0.9371\n",
      "Epoch 5/15\n",
      " - 3s - loss: 0.0643 - acc: 0.9186 - val_loss: 0.0644 - val_acc: 0.9182\n",
      "Epoch 6/15\n",
      " - 3s - loss: 0.0545 - acc: 0.9316 - val_loss: 0.0561 - val_acc: 0.9182\n",
      "\n",
      "Epoch 00006: ReduceLROnPlateau reducing learning rate to 0.0003000000142492354.\n",
      "Epoch 7/15\n",
      " - 3s - loss: 0.0368 - acc: 0.9604 - val_loss: 0.0563 - val_acc: 0.9182\n",
      "Epoch 8/15\n",
      " - 3s - loss: 0.0314 - acc: 0.9649 - val_loss: 0.0537 - val_acc: 0.9308\n",
      "\n",
      "Epoch 00008: ReduceLROnPlateau reducing learning rate to 9.000000427477062e-05.\n",
      "Epoch 9/15\n",
      " - 3s - loss: 0.0282 - acc: 0.9694 - val_loss: 0.0526 - val_acc: 0.9119\n",
      "Epoch 10/15\n",
      " - 3s - loss: 0.0246 - acc: 0.9753 - val_loss: 0.0596 - val_acc: 0.9119\n",
      "\n",
      "Epoch 00010: ReduceLROnPlateau reducing learning rate to 2.700000040931627e-05.\n",
      "Epoch 11/15\n",
      " - 3s - loss: 0.0232 - acc: 0.9762 - val_loss: 0.0617 - val_acc: 0.9119\n",
      "Epoch 12/15\n",
      " - 3s - loss: 0.0228 - acc: 0.9766 - val_loss: 0.0626 - val_acc: 0.9119\n",
      "\n",
      "Epoch 00012: ReduceLROnPlateau reducing learning rate to 9e-06.\n",
      "Epoch 13/15\n",
      " - 3s - loss: 0.0225 - acc: 0.9771 - val_loss: 0.0630 - val_acc: 0.9119\n",
      "Epoch 14/15\n",
      " - 3s - loss: 0.0223 - acc: 0.9771 - val_loss: 0.0633 - val_acc: 0.9119\n",
      "\n",
      "Epoch 00014: ReduceLROnPlateau reducing learning rate to 9e-06.\n",
      "Epoch 15/15\n",
      " - 3s - loss: 0.0222 - acc: 0.9771 - val_loss: 0.0636 - val_acc: 0.9119\n",
      "fold: 4/15\n",
      "Train on 2223 samples, validate on 159 samples\n",
      "Epoch 1/15\n",
      " - 39s - loss: 0.1973 - acc: 0.7337 - val_loss: 0.1348 - val_acc: 0.8365\n",
      "Epoch 2/15\n",
      " - 3s - loss: 0.1018 - acc: 0.8736 - val_loss: 0.0882 - val_acc: 0.8868\n",
      "Epoch 3/15\n",
      " - 3s - loss: 0.0793 - acc: 0.9019 - val_loss: 0.0763 - val_acc: 0.8994\n",
      "Epoch 4/15\n",
      " - 3s - loss: 0.0675 - acc: 0.9114 - val_loss: 0.0745 - val_acc: 0.8868\n",
      "Epoch 5/15\n",
      " - 3s - loss: 0.0641 - acc: 0.9181 - val_loss: 0.0677 - val_acc: 0.9119\n",
      "Epoch 6/15\n",
      " - 3s - loss: 0.0554 - acc: 0.9343 - val_loss: 0.0714 - val_acc: 0.8994\n",
      "Epoch 7/15\n",
      " - 3s - loss: 0.0516 - acc: 0.9361 - val_loss: 0.0663 - val_acc: 0.9119\n",
      "\n",
      "Epoch 00007: ReduceLROnPlateau reducing learning rate to 0.0003000000142492354.\n",
      "Epoch 8/15\n",
      " - 3s - loss: 0.0346 - acc: 0.9604 - val_loss: 0.0677 - val_acc: 0.9057\n",
      "Epoch 9/15\n",
      " - 3s - loss: 0.0290 - acc: 0.9672 - val_loss: 0.0730 - val_acc: 0.8994\n",
      "\n",
      "Epoch 00009: ReduceLROnPlateau reducing learning rate to 9.000000427477062e-05.\n",
      "Epoch 10/15\n",
      " - 3s - loss: 0.0241 - acc: 0.9735 - val_loss: 0.0671 - val_acc: 0.9182\n",
      "Epoch 11/15\n",
      " - 3s - loss: 0.0222 - acc: 0.9762 - val_loss: 0.0813 - val_acc: 0.8868\n",
      "Epoch 12/15\n",
      " - 3s - loss: 0.0210 - acc: 0.9789 - val_loss: 0.0696 - val_acc: 0.9182\n",
      "\n",
      "Epoch 00012: ReduceLROnPlateau reducing learning rate to 2.700000040931627e-05.\n",
      "Epoch 13/15\n",
      " - 3s - loss: 0.0191 - acc: 0.9793 - val_loss: 0.0678 - val_acc: 0.9245\n",
      "Epoch 14/15\n",
      " - 3s - loss: 0.0182 - acc: 0.9811 - val_loss: 0.0668 - val_acc: 0.9182\n",
      "Epoch 15/15\n",
      " - 3s - loss: 0.0175 - acc: 0.9820 - val_loss: 0.0692 - val_acc: 0.9182\n",
      "\n",
      "Epoch 00015: ReduceLROnPlateau reducing learning rate to 9e-06.\n",
      "fold: 5/15\n",
      "Train on 2223 samples, validate on 159 samples\n",
      "Epoch 1/15\n",
      " - 40s - loss: 0.1708 - acc: 0.7377 - val_loss: 0.1141 - val_acc: 0.8616\n",
      "Epoch 2/15\n",
      " - 3s - loss: 0.0932 - acc: 0.8763 - val_loss: 0.1003 - val_acc: 0.8805\n",
      "Epoch 3/15\n",
      " - 3s - loss: 0.0828 - acc: 0.8938 - val_loss: 0.0910 - val_acc: 0.8742\n",
      "Epoch 4/15\n",
      " - 3s - loss: 0.0726 - acc: 0.9078 - val_loss: 0.0995 - val_acc: 0.8491\n",
      "\n",
      "Epoch 00004: ReduceLROnPlateau reducing learning rate to 0.0003000000142492354.\n",
      "Epoch 5/15\n",
      " - 3s - loss: 0.0573 - acc: 0.9294 - val_loss: 0.0931 - val_acc: 0.8868\n",
      "Epoch 6/15\n",
      " - 3s - loss: 0.0531 - acc: 0.9361 - val_loss: 0.0946 - val_acc: 0.8679\n",
      "Epoch 7/15\n",
      " - 3s - loss: 0.0480 - acc: 0.9447 - val_loss: 0.0883 - val_acc: 0.8931\n",
      "Epoch 8/15\n",
      " - 3s - loss: 0.0442 - acc: 0.9474 - val_loss: 0.0855 - val_acc: 0.8931\n",
      "Epoch 9/15\n",
      " - 3s - loss: 0.0406 - acc: 0.9514 - val_loss: 0.0929 - val_acc: 0.8868\n",
      "\n",
      "Epoch 00009: ReduceLROnPlateau reducing learning rate to 9.000000427477062e-05.\n",
      "Epoch 10/15\n",
      " - 3s - loss: 0.0336 - acc: 0.9631 - val_loss: 0.0915 - val_acc: 0.8931\n",
      "Epoch 11/15\n",
      " - 3s - loss: 0.0319 - acc: 0.9654 - val_loss: 0.0915 - val_acc: 0.8868\n",
      "\n",
      "Epoch 00011: ReduceLROnPlateau reducing learning rate to 2.700000040931627e-05.\n",
      "Epoch 12/15\n",
      " - 3s - loss: 0.0306 - acc: 0.9667 - val_loss: 0.0907 - val_acc: 0.8931\n",
      "Epoch 13/15\n",
      " - 3s - loss: 0.0302 - acc: 0.9672 - val_loss: 0.0913 - val_acc: 0.8931\n",
      "\n",
      "Epoch 00013: ReduceLROnPlateau reducing learning rate to 9e-06.\n",
      "Epoch 14/15\n",
      " - 3s - loss: 0.0299 - acc: 0.9676 - val_loss: 0.0908 - val_acc: 0.8931\n",
      "Epoch 15/15\n",
      " - 3s - loss: 0.0298 - acc: 0.9681 - val_loss: 0.0910 - val_acc: 0.8931\n",
      "\n",
      "Epoch 00015: ReduceLROnPlateau reducing learning rate to 9e-06.\n",
      "fold: 6/15\n",
      "Train on 2223 samples, validate on 159 samples\n",
      "Epoch 1/15\n"
     ]
    },
    {
     "name": "stdout",
     "output_type": "stream",
     "text": [
      " - 44s - loss: 0.1531 - acc: 0.7913 - val_loss: 0.0780 - val_acc: 0.9057\n",
      "Epoch 2/15\n",
      " - 3s - loss: 0.0897 - acc: 0.8920 - val_loss: 0.0912 - val_acc: 0.8805\n",
      "Epoch 3/15\n",
      " - 3s - loss: 0.0837 - acc: 0.8916 - val_loss: 0.0804 - val_acc: 0.9057\n",
      "\n",
      "Epoch 00003: ReduceLROnPlateau reducing learning rate to 0.0003000000142492354.\n",
      "Epoch 4/15\n",
      " - 3s - loss: 0.0676 - acc: 0.9177 - val_loss: 0.0655 - val_acc: 0.9245\n",
      "Epoch 5/15\n",
      " - 3s - loss: 0.0604 - acc: 0.9253 - val_loss: 0.0672 - val_acc: 0.9245\n",
      "Epoch 6/15\n",
      " - 3s - loss: 0.0537 - acc: 0.9388 - val_loss: 0.0752 - val_acc: 0.9119\n",
      "\n",
      "Epoch 00006: ReduceLROnPlateau reducing learning rate to 9.000000427477062e-05.\n",
      "Epoch 7/15\n",
      " - 3s - loss: 0.0477 - acc: 0.9469 - val_loss: 0.0706 - val_acc: 0.9182\n",
      "Epoch 8/15\n",
      " - 3s - loss: 0.0454 - acc: 0.9496 - val_loss: 0.0732 - val_acc: 0.9182\n",
      "\n",
      "Epoch 00008: ReduceLROnPlateau reducing learning rate to 2.700000040931627e-05.\n",
      "Epoch 9/15\n",
      " - 3s - loss: 0.0428 - acc: 0.9546 - val_loss: 0.0727 - val_acc: 0.9057\n",
      "Epoch 10/15\n",
      " - 3s - loss: 0.0420 - acc: 0.9541 - val_loss: 0.0737 - val_acc: 0.9057\n",
      "\n",
      "Epoch 00010: ReduceLROnPlateau reducing learning rate to 9e-06.\n",
      "Epoch 11/15\n",
      " - 3s - loss: 0.0414 - acc: 0.9550 - val_loss: 0.0739 - val_acc: 0.9057\n",
      "Epoch 12/15\n",
      " - 3s - loss: 0.0411 - acc: 0.9555 - val_loss: 0.0742 - val_acc: 0.9057\n",
      "\n",
      "Epoch 00012: ReduceLROnPlateau reducing learning rate to 9e-06.\n",
      "Epoch 13/15\n",
      " - 3s - loss: 0.0408 - acc: 0.9564 - val_loss: 0.0750 - val_acc: 0.9057\n",
      "Epoch 14/15\n",
      " - 3s - loss: 0.0404 - acc: 0.9568 - val_loss: 0.0748 - val_acc: 0.9057\n",
      "\n",
      "Epoch 00014: ReduceLROnPlateau reducing learning rate to 9e-06.\n",
      "Epoch 15/15\n",
      " - 3s - loss: 0.0401 - acc: 0.9568 - val_loss: 0.0751 - val_acc: 0.9057\n",
      "fold: 7/15\n",
      "Train on 2223 samples, validate on 159 samples\n",
      "Epoch 1/15\n",
      " - 45s - loss: 0.1901 - acc: 0.6973 - val_loss: 0.1482 - val_acc: 0.7987\n",
      "Epoch 2/15\n",
      " - 3s - loss: 0.0990 - acc: 0.8700 - val_loss: 0.0805 - val_acc: 0.8868\n",
      "Epoch 3/15\n",
      " - 3s - loss: 0.0824 - acc: 0.8920 - val_loss: 0.0842 - val_acc: 0.8679\n",
      "Epoch 4/15\n",
      " - 3s - loss: 0.0736 - acc: 0.9073 - val_loss: 0.0611 - val_acc: 0.9182\n",
      "Epoch 5/15\n",
      " - 3s - loss: 0.0645 - acc: 0.9208 - val_loss: 0.0694 - val_acc: 0.8868\n",
      "Epoch 6/15\n",
      " - 3s - loss: 0.0589 - acc: 0.9231 - val_loss: 0.0598 - val_acc: 0.9119\n",
      "\n",
      "Epoch 00006: ReduceLROnPlateau reducing learning rate to 0.0003000000142492354.\n",
      "Epoch 7/15\n",
      " - 3s - loss: 0.0454 - acc: 0.9501 - val_loss: 0.0701 - val_acc: 0.8931\n",
      "Epoch 8/15\n",
      " - 3s - loss: 0.0396 - acc: 0.9568 - val_loss: 0.0587 - val_acc: 0.9119\n",
      "\n",
      "Epoch 00008: ReduceLROnPlateau reducing learning rate to 9.000000427477062e-05.\n",
      "Epoch 9/15\n",
      " - 3s - loss: 0.0350 - acc: 0.9618 - val_loss: 0.0600 - val_acc: 0.9308\n",
      "Epoch 10/15\n",
      " - 3s - loss: 0.0332 - acc: 0.9654 - val_loss: 0.0640 - val_acc: 0.9182\n",
      "Epoch 11/15\n",
      " - 3s - loss: 0.0317 - acc: 0.9672 - val_loss: 0.0601 - val_acc: 0.9245\n",
      "\n",
      "Epoch 00011: ReduceLROnPlateau reducing learning rate to 2.700000040931627e-05.\n",
      "Epoch 12/15\n",
      " - 3s - loss: 0.0305 - acc: 0.9685 - val_loss: 0.0639 - val_acc: 0.9119\n",
      "Epoch 13/15\n",
      " - 3s - loss: 0.0301 - acc: 0.9694 - val_loss: 0.0661 - val_acc: 0.8994\n",
      "\n",
      "Epoch 00013: ReduceLROnPlateau reducing learning rate to 9e-06.\n",
      "Epoch 14/15\n",
      " - 3s - loss: 0.0296 - acc: 0.9694 - val_loss: 0.0651 - val_acc: 0.9057\n",
      "Epoch 15/15\n",
      " - 3s - loss: 0.0295 - acc: 0.9694 - val_loss: 0.0641 - val_acc: 0.9119\n",
      "\n",
      "Epoch 00015: ReduceLROnPlateau reducing learning rate to 9e-06.\n",
      "fold: 8/15\n",
      "Train on 2223 samples, validate on 159 samples\n",
      "Epoch 1/15\n",
      " - 49s - loss: 0.1712 - acc: 0.7472 - val_loss: 0.1046 - val_acc: 0.8679\n",
      "Epoch 2/15\n",
      " - 3s - loss: 0.0865 - acc: 0.8889 - val_loss: 0.1024 - val_acc: 0.8679\n",
      "Epoch 3/15\n",
      " - 4s - loss: 0.0743 - acc: 0.9006 - val_loss: 0.1018 - val_acc: 0.8679\n",
      "\n",
      "Epoch 00003: ReduceLROnPlateau reducing learning rate to 0.0003000000142492354.\n",
      "Epoch 4/15\n",
      " - 3s - loss: 0.0606 - acc: 0.9226 - val_loss: 0.0958 - val_acc: 0.8868\n",
      "Epoch 5/15\n",
      " - 3s - loss: 0.0559 - acc: 0.9316 - val_loss: 0.0937 - val_acc: 0.8742\n",
      "Epoch 6/15\n",
      " - 3s - loss: 0.0499 - acc: 0.9397 - val_loss: 0.0953 - val_acc: 0.8805\n",
      "\n",
      "Epoch 00006: ReduceLROnPlateau reducing learning rate to 9.000000427477062e-05.\n",
      "Epoch 7/15\n",
      " - 3s - loss: 0.0434 - acc: 0.9532 - val_loss: 0.1002 - val_acc: 0.8679\n",
      "Epoch 8/15\n",
      " - 3s - loss: 0.0418 - acc: 0.9537 - val_loss: 0.1034 - val_acc: 0.8679\n",
      "\n",
      "Epoch 00008: ReduceLROnPlateau reducing learning rate to 2.700000040931627e-05.\n",
      "Epoch 9/15\n",
      " - 3s - loss: 0.0397 - acc: 0.9564 - val_loss: 0.1043 - val_acc: 0.8679\n",
      "Epoch 10/15\n",
      " - 3s - loss: 0.0391 - acc: 0.9577 - val_loss: 0.1062 - val_acc: 0.8679\n",
      "\n",
      "Epoch 00010: ReduceLROnPlateau reducing learning rate to 9e-06.\n",
      "Epoch 11/15\n",
      " - 3s - loss: 0.0385 - acc: 0.9586 - val_loss: 0.1038 - val_acc: 0.8742\n",
      "Epoch 12/15\n",
      " - 3s - loss: 0.0382 - acc: 0.9586 - val_loss: 0.1039 - val_acc: 0.8742\n",
      "\n",
      "Epoch 00012: ReduceLROnPlateau reducing learning rate to 9e-06.\n",
      "Epoch 13/15\n",
      " - 3s - loss: 0.0380 - acc: 0.9586 - val_loss: 0.1040 - val_acc: 0.8742\n",
      "Epoch 14/15\n",
      " - 3s - loss: 0.0377 - acc: 0.9591 - val_loss: 0.1033 - val_acc: 0.8742\n",
      "\n",
      "Epoch 00014: ReduceLROnPlateau reducing learning rate to 9e-06.\n",
      "Epoch 15/15\n",
      " - 3s - loss: 0.0375 - acc: 0.9595 - val_loss: 0.1037 - val_acc: 0.8742\n",
      "fold: 9/15\n",
      "Train on 2223 samples, validate on 159 samples\n",
      "Epoch 1/15\n",
      " - 55s - loss: 0.1556 - acc: 0.7683 - val_loss: 0.1243 - val_acc: 0.8176\n",
      "Epoch 2/15\n",
      " - 3s - loss: 0.0921 - acc: 0.8803 - val_loss: 0.1084 - val_acc: 0.8553\n",
      "Epoch 3/15\n",
      " - 4s - loss: 0.0772 - acc: 0.9042 - val_loss: 0.1133 - val_acc: 0.8616\n",
      "Epoch 4/15\n",
      " - 5s - loss: 0.0689 - acc: 0.9145 - val_loss: 0.1002 - val_acc: 0.8553\n",
      "Epoch 5/15\n",
      " - 4s - loss: 0.0638 - acc: 0.9217 - val_loss: 0.1012 - val_acc: 0.8553\n",
      "\n",
      "Epoch 00005: ReduceLROnPlateau reducing learning rate to 0.0003000000142492354.\n",
      "Epoch 6/15\n",
      " - 3s - loss: 0.0509 - acc: 0.9366 - val_loss: 0.0843 - val_acc: 0.8931\n",
      "Epoch 7/15\n",
      " - 3s - loss: 0.0428 - acc: 0.9519 - val_loss: 0.0797 - val_acc: 0.9057\n",
      "Epoch 8/15\n",
      " - 4s - loss: 0.0382 - acc: 0.9559 - val_loss: 0.0797 - val_acc: 0.9057\n",
      "Epoch 9/15\n",
      " - 3s - loss: 0.0331 - acc: 0.9618 - val_loss: 0.0822 - val_acc: 0.8931\n",
      "\n",
      "Epoch 00009: ReduceLROnPlateau reducing learning rate to 9.000000427477062e-05.\n",
      "Epoch 10/15\n",
      " - 4s - loss: 0.0280 - acc: 0.9694 - val_loss: 0.0811 - val_acc: 0.8994\n",
      "Epoch 11/15\n",
      " - 3s - loss: 0.0263 - acc: 0.9717 - val_loss: 0.0864 - val_acc: 0.8994\n",
      "\n",
      "Epoch 00011: ReduceLROnPlateau reducing learning rate to 2.700000040931627e-05.\n",
      "Epoch 12/15\n",
      " - 3s - loss: 0.0242 - acc: 0.9744 - val_loss: 0.0851 - val_acc: 0.8994\n",
      "Epoch 13/15\n",
      " - 3s - loss: 0.0236 - acc: 0.9757 - val_loss: 0.0854 - val_acc: 0.8994\n",
      "\n",
      "Epoch 00013: ReduceLROnPlateau reducing learning rate to 9e-06.\n",
      "Epoch 14/15\n",
      " - 3s - loss: 0.0230 - acc: 0.9771 - val_loss: 0.0852 - val_acc: 0.8994\n",
      "Epoch 15/15\n",
      " - 3s - loss: 0.0228 - acc: 0.9771 - val_loss: 0.0857 - val_acc: 0.8994\n",
      "\n",
      "Epoch 00015: ReduceLROnPlateau reducing learning rate to 9e-06.\n",
      "fold: 10/15\n",
      "Train on 2223 samples, validate on 159 samples\n",
      "Epoch 1/15\n",
      " - 60s - loss: 0.1594 - acc: 0.7782 - val_loss: 0.0995 - val_acc: 0.8616\n",
      "Epoch 2/15\n",
      " - 3s - loss: 0.0909 - acc: 0.8844 - val_loss: 0.1026 - val_acc: 0.8553\n",
      "Epoch 3/15\n",
      " - 3s - loss: 0.0806 - acc: 0.8952 - val_loss: 0.0839 - val_acc: 0.8931\n",
      "Epoch 4/15\n",
      " - 4s - loss: 0.0717 - acc: 0.9051 - val_loss: 0.0891 - val_acc: 0.8805\n",
      "Epoch 5/15\n",
      " - 3s - loss: 0.0641 - acc: 0.9213 - val_loss: 0.0915 - val_acc: 0.8868\n",
      "\n",
      "Epoch 00005: ReduceLROnPlateau reducing learning rate to 0.0003000000142492354.\n",
      "Epoch 6/15\n",
      " - 3s - loss: 0.0515 - acc: 0.9357 - val_loss: 0.0853 - val_acc: 0.8931\n",
      "Epoch 7/15\n",
      " - 3s - loss: 0.0457 - acc: 0.9483 - val_loss: 0.0800 - val_acc: 0.9057\n",
      "Epoch 8/15\n",
      " - 3s - loss: 0.0408 - acc: 0.9528 - val_loss: 0.0846 - val_acc: 0.8994\n",
      "Epoch 9/15\n",
      " - 3s - loss: 0.0381 - acc: 0.9573 - val_loss: 0.0771 - val_acc: 0.8994\n",
      "\n",
      "Epoch 00009: ReduceLROnPlateau reducing learning rate to 9.000000427477062e-05.\n",
      "Epoch 10/15\n",
      " - 3s - loss: 0.0330 - acc: 0.9636 - val_loss: 0.0810 - val_acc: 0.8931\n",
      "Epoch 11/15\n",
      " - 4s - loss: 0.0319 - acc: 0.9654 - val_loss: 0.0805 - val_acc: 0.8994\n",
      "\n",
      "Epoch 00011: ReduceLROnPlateau reducing learning rate to 2.700000040931627e-05.\n",
      "Epoch 12/15\n",
      " - 3s - loss: 0.0305 - acc: 0.9672 - val_loss: 0.0805 - val_acc: 0.8931\n",
      "Epoch 13/15\n",
      " - 3s - loss: 0.0302 - acc: 0.9681 - val_loss: 0.0811 - val_acc: 0.8931\n",
      "\n",
      "Epoch 00013: ReduceLROnPlateau reducing learning rate to 9e-06.\n",
      "Epoch 14/15\n"
     ]
    },
    {
     "name": "stdout",
     "output_type": "stream",
     "text": [
      " - 3s - loss: 0.0297 - acc: 0.9685 - val_loss: 0.0810 - val_acc: 0.8931\n",
      "Epoch 15/15\n",
      " - 3s - loss: 0.0296 - acc: 0.9685 - val_loss: 0.0811 - val_acc: 0.8931\n",
      "\n",
      "Epoch 00015: ReduceLROnPlateau reducing learning rate to 9e-06.\n",
      "fold: 11/15\n",
      "Train on 2224 samples, validate on 158 samples\n",
      "Epoch 1/15\n",
      " - 61s - loss: 0.1548 - acc: 0.7918 - val_loss: 0.1329 - val_acc: 0.8291\n",
      "Epoch 2/15\n",
      " - 3s - loss: 0.0868 - acc: 0.8871 - val_loss: 0.1404 - val_acc: 0.8228\n",
      "Epoch 3/15\n",
      " - 3s - loss: 0.0748 - acc: 0.9083 - val_loss: 0.0871 - val_acc: 0.8861\n",
      "Epoch 4/15\n",
      " - 3s - loss: 0.0712 - acc: 0.9123 - val_loss: 0.0922 - val_acc: 0.8734\n",
      "Epoch 5/15\n",
      " - 3s - loss: 0.0607 - acc: 0.9258 - val_loss: 0.1082 - val_acc: 0.8481\n",
      "\n",
      "Epoch 00005: ReduceLROnPlateau reducing learning rate to 0.0003000000142492354.\n",
      "Epoch 6/15\n",
      " - 6s - loss: 0.0490 - acc: 0.9402 - val_loss: 0.0885 - val_acc: 0.8861\n",
      "Epoch 7/15\n",
      " - 4s - loss: 0.0432 - acc: 0.9514 - val_loss: 0.0905 - val_acc: 0.8797\n",
      "\n",
      "Epoch 00007: ReduceLROnPlateau reducing learning rate to 9.000000427477062e-05.\n",
      "Epoch 8/15\n",
      " - 3s - loss: 0.0373 - acc: 0.9582 - val_loss: 0.0792 - val_acc: 0.9051\n",
      "Epoch 9/15\n",
      " - 4s - loss: 0.0348 - acc: 0.9604 - val_loss: 0.0800 - val_acc: 0.9114\n",
      "Epoch 10/15\n",
      " - 4s - loss: 0.0328 - acc: 0.9636 - val_loss: 0.0811 - val_acc: 0.9051\n",
      "Epoch 11/15\n",
      " - 4s - loss: 0.0316 - acc: 0.9645 - val_loss: 0.0798 - val_acc: 0.8987\n",
      "\n",
      "Epoch 00011: ReduceLROnPlateau reducing learning rate to 2.700000040931627e-05.\n",
      "Epoch 12/15\n",
      " - 4s - loss: 0.0298 - acc: 0.9672 - val_loss: 0.0786 - val_acc: 0.9051\n",
      "Epoch 13/15\n",
      " - 3s - loss: 0.0291 - acc: 0.9685 - val_loss: 0.0792 - val_acc: 0.9051\n",
      "\n",
      "Epoch 00013: ReduceLROnPlateau reducing learning rate to 9e-06.\n",
      "Epoch 14/15\n",
      " - 3s - loss: 0.0287 - acc: 0.9690 - val_loss: 0.0790 - val_acc: 0.9051\n",
      "Epoch 15/15\n",
      " - 4s - loss: 0.0285 - acc: 0.9690 - val_loss: 0.0789 - val_acc: 0.9051\n",
      "\n",
      "Epoch 00015: ReduceLROnPlateau reducing learning rate to 9e-06.\n",
      "fold: 12/15\n",
      "Train on 2224 samples, validate on 158 samples\n",
      "Epoch 1/15\n",
      " - 64s - loss: 0.1816 - acc: 0.7208 - val_loss: 0.1036 - val_acc: 0.8608\n",
      "Epoch 2/15\n",
      " - 3s - loss: 0.0965 - acc: 0.8719 - val_loss: 0.0779 - val_acc: 0.9051\n",
      "Epoch 3/15\n",
      " - 3s - loss: 0.0788 - acc: 0.8952 - val_loss: 0.0754 - val_acc: 0.8987\n",
      "Epoch 4/15\n",
      " - 3s - loss: 0.0706 - acc: 0.9119 - val_loss: 0.0770 - val_acc: 0.9114\n",
      "Epoch 5/15\n",
      " - 3s - loss: 0.0651 - acc: 0.9186 - val_loss: 0.0884 - val_acc: 0.8987\n",
      "Epoch 6/15\n",
      " - 3s - loss: 0.0536 - acc: 0.9357 - val_loss: 0.0762 - val_acc: 0.9051\n",
      "\n",
      "Epoch 00006: ReduceLROnPlateau reducing learning rate to 0.0003000000142492354.\n",
      "Epoch 7/15\n",
      " - 3s - loss: 0.0404 - acc: 0.9546 - val_loss: 0.0685 - val_acc: 0.9367\n",
      "Epoch 8/15\n",
      " - 3s - loss: 0.0341 - acc: 0.9622 - val_loss: 0.0720 - val_acc: 0.9241\n",
      "Epoch 9/15\n",
      " - 3s - loss: 0.0284 - acc: 0.9703 - val_loss: 0.0982 - val_acc: 0.8797\n",
      "\n",
      "Epoch 00009: ReduceLROnPlateau reducing learning rate to 9.000000427477062e-05.\n",
      "Epoch 10/15\n",
      " - 3s - loss: 0.0249 - acc: 0.9726 - val_loss: 0.0814 - val_acc: 0.8987\n",
      "Epoch 11/15\n",
      " - 3s - loss: 0.0232 - acc: 0.9757 - val_loss: 0.0852 - val_acc: 0.8924\n",
      "\n",
      "Epoch 00011: ReduceLROnPlateau reducing learning rate to 2.700000040931627e-05.\n",
      "Epoch 12/15\n",
      " - 3s - loss: 0.0214 - acc: 0.9784 - val_loss: 0.0830 - val_acc: 0.8924\n",
      "Epoch 13/15\n",
      " - 3s - loss: 0.0210 - acc: 0.9789 - val_loss: 0.0885 - val_acc: 0.8861\n",
      "\n",
      "Epoch 00013: ReduceLROnPlateau reducing learning rate to 9e-06.\n",
      "Epoch 14/15\n",
      " - 3s - loss: 0.0208 - acc: 0.9789 - val_loss: 0.0863 - val_acc: 0.8924\n",
      "Epoch 15/15\n",
      " - 3s - loss: 0.0207 - acc: 0.9789 - val_loss: 0.0862 - val_acc: 0.8924\n",
      "\n",
      "Epoch 00015: ReduceLROnPlateau reducing learning rate to 9e-06.\n",
      "fold: 13/15\n",
      "Train on 2224 samples, validate on 158 samples\n",
      "Epoch 1/15\n",
      " - 69s - loss: 0.1607 - acc: 0.7608 - val_loss: 0.0855 - val_acc: 0.8987\n",
      "Epoch 2/15\n",
      " - 3s - loss: 0.0864 - acc: 0.8880 - val_loss: 0.0764 - val_acc: 0.9177\n",
      "Epoch 3/15\n",
      " - 3s - loss: 0.0819 - acc: 0.8957 - val_loss: 0.0940 - val_acc: 0.8797\n",
      "Epoch 4/15\n",
      " - 3s - loss: 0.0694 - acc: 0.9128 - val_loss: 0.0736 - val_acc: 0.9051\n",
      "\n",
      "Epoch 00004: ReduceLROnPlateau reducing learning rate to 0.0003000000142492354.\n",
      "Epoch 5/15\n",
      " - 3s - loss: 0.0526 - acc: 0.9366 - val_loss: 0.0694 - val_acc: 0.9241\n",
      "Epoch 6/15\n",
      " - 3s - loss: 0.0451 - acc: 0.9469 - val_loss: 0.0737 - val_acc: 0.8987\n",
      "Epoch 7/15\n",
      " - 3s - loss: 0.0384 - acc: 0.9582 - val_loss: 0.0680 - val_acc: 0.9177\n",
      "\n",
      "Epoch 00007: ReduceLROnPlateau reducing learning rate to 9.000000427477062e-05.\n",
      "Epoch 8/15\n",
      " - 3s - loss: 0.0327 - acc: 0.9663 - val_loss: 0.0722 - val_acc: 0.9051\n",
      "Epoch 9/15\n",
      " - 3s - loss: 0.0306 - acc: 0.9676 - val_loss: 0.0734 - val_acc: 0.9051\n",
      "\n",
      "Epoch 00009: ReduceLROnPlateau reducing learning rate to 2.700000040931627e-05.\n",
      "Epoch 10/15\n",
      " - 3s - loss: 0.0286 - acc: 0.9703 - val_loss: 0.0732 - val_acc: 0.9051\n",
      "Epoch 11/15\n",
      " - 3s - loss: 0.0281 - acc: 0.9703 - val_loss: 0.0735 - val_acc: 0.9114\n",
      "\n",
      "Epoch 00011: ReduceLROnPlateau reducing learning rate to 9e-06.\n",
      "Epoch 12/15\n",
      " - 3s - loss: 0.0277 - acc: 0.9703 - val_loss: 0.0736 - val_acc: 0.9051\n",
      "Epoch 13/15\n",
      " - 3s - loss: 0.0275 - acc: 0.9703 - val_loss: 0.0735 - val_acc: 0.9051\n",
      "\n",
      "Epoch 00013: ReduceLROnPlateau reducing learning rate to 9e-06.\n",
      "Epoch 14/15\n",
      " - 3s - loss: 0.0274 - acc: 0.9708 - val_loss: 0.0737 - val_acc: 0.9051\n",
      "Epoch 15/15\n",
      " - 3s - loss: 0.0272 - acc: 0.9708 - val_loss: 0.0733 - val_acc: 0.9051\n",
      "\n",
      "Epoch 00015: ReduceLROnPlateau reducing learning rate to 9e-06.\n",
      "fold: 14/15\n",
      "Train on 2224 samples, validate on 158 samples\n",
      "Epoch 1/15\n",
      " - 73s - loss: 0.1570 - acc: 0.7927 - val_loss: 0.1030 - val_acc: 0.8608\n",
      "Epoch 2/15\n",
      " - 3s - loss: 0.0962 - acc: 0.8799 - val_loss: 0.0930 - val_acc: 0.8861\n",
      "Epoch 3/15\n",
      " - 3s - loss: 0.0773 - acc: 0.8993 - val_loss: 0.0835 - val_acc: 0.8987\n",
      "Epoch 4/15\n",
      " - 3s - loss: 0.0685 - acc: 0.9146 - val_loss: 0.0810 - val_acc: 0.8987\n",
      "Epoch 5/15\n",
      " - 3s - loss: 0.0673 - acc: 0.9177 - val_loss: 0.0854 - val_acc: 0.8797\n",
      "\n",
      "Epoch 00005: ReduceLROnPlateau reducing learning rate to 0.0003000000142492354.\n",
      "Epoch 6/15\n",
      " - 3s - loss: 0.0516 - acc: 0.9393 - val_loss: 0.0782 - val_acc: 0.8987\n",
      "Epoch 7/15\n",
      " - 4s - loss: 0.0468 - acc: 0.9460 - val_loss: 0.0747 - val_acc: 0.9051\n",
      "Epoch 8/15\n",
      " - 5s - loss: 0.0437 - acc: 0.9514 - val_loss: 0.0805 - val_acc: 0.8987\n",
      "Epoch 9/15\n",
      " - 4s - loss: 0.0402 - acc: 0.9550 - val_loss: 0.0801 - val_acc: 0.9051\n",
      "\n",
      "Epoch 00009: ReduceLROnPlateau reducing learning rate to 9.000000427477062e-05.\n",
      "Epoch 10/15\n",
      " - 4s - loss: 0.0352 - acc: 0.9622 - val_loss: 0.0847 - val_acc: 0.8861\n",
      "Epoch 11/15\n",
      " - 3s - loss: 0.0324 - acc: 0.9658 - val_loss: 0.0842 - val_acc: 0.8861\n",
      "\n",
      "Epoch 00011: ReduceLROnPlateau reducing learning rate to 2.700000040931627e-05.\n",
      "Epoch 12/15\n",
      " - 3s - loss: 0.0313 - acc: 0.9672 - val_loss: 0.0853 - val_acc: 0.8861\n",
      "Epoch 13/15\n",
      " - 3s - loss: 0.0309 - acc: 0.9672 - val_loss: 0.0858 - val_acc: 0.8861\n",
      "\n",
      "Epoch 00013: ReduceLROnPlateau reducing learning rate to 9e-06.\n",
      "Epoch 14/15\n",
      " - 3s - loss: 0.0305 - acc: 0.9672 - val_loss: 0.0856 - val_acc: 0.8924\n",
      "Epoch 15/15\n",
      " - 3s - loss: 0.0304 - acc: 0.9672 - val_loss: 0.0858 - val_acc: 0.8924\n",
      "\n",
      "Epoch 00015: ReduceLROnPlateau reducing learning rate to 9e-06.\n",
      "fold: 15/15\n",
      "Train on 2224 samples, validate on 158 samples\n",
      "Epoch 1/15\n",
      " - 81s - loss: 0.1550 - acc: 0.7680 - val_loss: 0.0811 - val_acc: 0.8987\n",
      "Epoch 2/15\n",
      " - 3s - loss: 0.0892 - acc: 0.8849 - val_loss: 0.0790 - val_acc: 0.8924\n",
      "Epoch 3/15\n",
      " - 3s - loss: 0.0789 - acc: 0.9002 - val_loss: 0.0665 - val_acc: 0.9051\n",
      "Epoch 4/15\n",
      " - 3s - loss: 0.0701 - acc: 0.9123 - val_loss: 0.0701 - val_acc: 0.9051\n",
      "Epoch 5/15\n",
      " - 3s - loss: 0.0650 - acc: 0.9173 - val_loss: 0.0651 - val_acc: 0.9177\n",
      "Epoch 6/15\n",
      " - 3s - loss: 0.0595 - acc: 0.9258 - val_loss: 0.0646 - val_acc: 0.9114\n",
      "Epoch 7/15\n",
      " - 3s - loss: 0.0471 - acc: 0.9429 - val_loss: 0.0650 - val_acc: 0.9241\n",
      "Epoch 8/15\n",
      " - 4s - loss: 0.0381 - acc: 0.9568 - val_loss: 0.0876 - val_acc: 0.8987\n",
      "Epoch 9/15\n",
      " - 3s - loss: 0.0305 - acc: 0.9663 - val_loss: 0.0776 - val_acc: 0.9114\n",
      "\n",
      "Epoch 00009: ReduceLROnPlateau reducing learning rate to 0.0003000000142492354.\n",
      "Epoch 10/15\n",
      " - 3s - loss: 0.0237 - acc: 0.9739 - val_loss: 0.0676 - val_acc: 0.9177\n",
      "Epoch 11/15\n",
      " - 3s - loss: 0.0176 - acc: 0.9811 - val_loss: 0.0785 - val_acc: 0.9114\n",
      "\n",
      "Epoch 00011: ReduceLROnPlateau reducing learning rate to 9.000000427477062e-05.\n",
      "Epoch 12/15\n",
      " - 3s - loss: 0.0147 - acc: 0.9847 - val_loss: 0.0777 - val_acc: 0.9114\n"
     ]
    },
    {
     "name": "stdout",
     "output_type": "stream",
     "text": [
      "Epoch 13/15\n",
      " - 3s - loss: 0.0140 - acc: 0.9852 - val_loss: 0.0799 - val_acc: 0.9177\n",
      "\n",
      "Epoch 00013: ReduceLROnPlateau reducing learning rate to 2.700000040931627e-05.\n",
      "Epoch 14/15\n",
      " - 3s - loss: 0.0135 - acc: 0.9861 - val_loss: 0.0787 - val_acc: 0.9177\n",
      "Epoch 15/15\n",
      " - 3s - loss: 0.0132 - acc: 0.9865 - val_loss: 0.0786 - val_acc: 0.9177\n",
      "\n",
      "Epoch 00015: ReduceLROnPlateau reducing learning rate to 9e-06.\n"
     ]
    }
   ],
   "source": [
    "n_fold = 15\n",
    "folds = StratifiedKFold(n_splits=n_fold, shuffle=True, random_state=369)\n",
    "\n",
    "model = [0] * n_fold\n",
    "history = [0] * n_fold\n",
    "oof = np.zeros(len(X_train))\n",
    "\n",
    "#run model\n",
    "for fold_, (trn_idx, val_idx) in enumerate(folds.split(X_train, Y_train)):\n",
    "    print('fold: ' + str(fold_+1) + '/' + str(n_fold))\n",
    "\n",
    "    X_tr, X_val = X_train.iloc[trn_idx], X_train.iloc[val_idx]\n",
    "    y_tr, y_val = Y_train.iloc[trn_idx], Y_train.iloc[val_idx]\n",
    "\n",
    "    model[fold_] = Sequential()\n",
    "    model[fold_].add(Embedding(21, 128, input_length=200))\n",
    "    model[fold_].add(Conv1D(filters=64, kernel_size=16, strides=1, padding='same', activation='relu'))\n",
    "    model[fold_].add(MaxPooling1D(5))\n",
    "    model[fold_].add(LSTM(128, return_sequences = False, unroll=True, stateful=False))\n",
    "    model[fold_].add(Dense(64, activation='relu'))\n",
    "    model[fold_].add(Dense(32, activation='relu'))\n",
    "    model[fold_].add(Dense(16, activation='relu'))\n",
    "    model[fold_].add(Dense(1, activation='sigmoid'))\n",
    "    \n",
    "    optimizer = Adam(lr=0.001)\n",
    "    model[fold_].compile(optimizer=optimizer, loss=losses.mean_squared_error, metrics=[\"acc\"])\n",
    "    \n",
    "    history[fold_] = model[fold_].fit(X_tr, y_tr, epochs=15, batch_size=32, validation_data=(X_val, y_val), verbose=2, \n",
    "                               callbacks=[learning_rate_reduction])\n",
    "\n",
    "    oof[val_idx] = model[fold_].predict(X_val).squeeze()\n"
   ]
  },
  {
   "cell_type": "code",
   "execution_count": 46,
   "metadata": {},
   "outputs": [
    {
     "name": "stdout",
     "output_type": "stream",
     "text": [
      "confusion_matrix:\n",
      "[[1067  105]\n",
      " [ 126 1084]]\n",
      "\n",
      "SENS: 89.587 %\n",
      "SPEC: 91.041 %\n",
      "ACC : 90.302 %\n",
      "F1 score: 0.904\n"
     ]
    }
   ],
   "source": [
    "#calculate the score for out of fold validation dataset\n",
    "oof2 = np.array([[1] if oof[i]>=0.5 else [0] for i in range(len(oof))])\n",
    "\n",
    "#show the evaluation scores \n",
    "evaluation_scores(Y_train, oof2)"
   ]
  },
  {
   "cell_type": "code",
   "execution_count": 47,
   "metadata": {},
   "outputs": [
    {
     "data": {
      "image/png": "[encoded data removed]",
      "text/plain": [
       "<Figure size 432x288 with 2 Axes>"
      ]
     },
     "metadata": {
      "needs_background": "light"
     },
     "output_type": "display_data"
    }
   ],
   "source": [
    "# Plot the loss and accuracy curves for training and validation for one DNN\n",
    "index=np.random.randint(n_fold)\n",
    "\n",
    "fig, ax = plt.subplots(2,1)\n",
    "ax[0].plot(history[index].history['loss'], color='b', label=\"Training loss\")\n",
    "ax[0].plot(history[index].history['val_loss'], color='r', label=\"validation loss\",axes =ax[0])\n",
    "legend = ax[0].legend(loc='best', shadow=True)\n",
    "\n",
    "ax[1].plot(history[index].history['acc'], color='b', label=\"Training accuracy\")\n",
    "ax[1].plot(history[index].history['val_acc'], color='r',label=\"Validation accuracy\")\n",
    "legend = ax[1].legend(loc='best', shadow=True)"
   ]
  },
  {
   "cell_type": "code",
   "execution_count": 48,
   "metadata": {},
   "outputs": [
    {
     "name": "stdout",
     "output_type": "stream",
     "text": [
      "confusion_matrix:\n",
      "[[564  42]\n",
      " [ 54 514]]\n",
      "\n",
      "SENS: 90.493 %\n",
      "SPEC: 93.069 %\n",
      "ACC : 91.823 %\n",
      "F1 score: 0.915\n"
     ]
    }
   ],
   "source": [
    "#ensemble prediction for the test dataset\n",
    "test_pred = np.zeros((X_test.shape[0], 2))  \n",
    "for i in range(n_fold):\n",
    "    pred = model[i].predict(X_test)\n",
    "    test_pred = test_pred + np.array([[1,0] if ele<0.5 else [0,1] for ele in pred])\n",
    "\n",
    "test_pred2 = np.argmax(test_pred, axis=1)\n",
    "\n",
    "#show the evaluation scores for test dataset\n",
    "evaluation_scores(Y_test, test_pred2)"
   ]
  },
  {
   "cell_type": "markdown",
   "metadata": {},
   "source": [
    "Obviously, our 15 DNN model has better evaluation scores on test dataset for sensitivity, specifity, accuracy, and F1 score. "
   ]
  },
  {
   "cell_type": "markdown",
   "metadata": {},
   "source": [
    "## Make a prediction on an AMP derived from mouse BAX"
   ]
  },
  {
   "cell_type": "markdown",
   "metadata": {},
   "source": [
    "Peptide Bax-α5 (Ac-DGNFNWGRVVALFYFASKLVLKALSTKVPELIRT-NH2) was derived from the pore-forming (α5 and part of α6 hairpin) domain (residues 102–135) of mouse Bax [(Shuo et al.)](https://www.pnas.org/content/105/45/17379)  Let's see if our 15 DNN model can correctly predict this peptide as an AMP. "
   ]
  },
  {
   "cell_type": "code",
   "execution_count": 70,
   "metadata": {},
   "outputs": [],
   "source": [
    "#pad X in front of peptide sequence to make its length 200\n",
    "test_str = 'DGNFNWGRVVALFYFASKLVLKALSTKVPELIRT'\n",
    "while len(test_str)<200:\n",
    "    test_str='X'+test_str\n",
    "\n",
    "#mapping 21 different amino acid to 21 intergers:\n",
    "test_str2 = []\n",
    "for j in range(len(test_str)):\n",
    "    test_str2.append(mapping[test_str[j]])\n",
    "test_str2 = pd.DataFrame(test_str2).T"
   ]
  },
  {
   "cell_type": "code",
   "execution_count": 71,
   "metadata": {},
   "outputs": [
    {
     "name": "stdout",
     "output_type": "stream",
     "text": [
      "Peptide derived from BAX is an AMP, and our prediction indicates it is.\n"
     ]
    }
   ],
   "source": [
    "#make prediction on AMP derived from BAX\n",
    "test_pred = np.zeros((test_str2.shape[0], 2)) \n",
    "for i in range(n_fold):\n",
    "    pred = model[i].predict(test_str2)\n",
    "    test_pred = test_pred + np.array([[1,0] if ele<0.5 else [0,1] for ele in pred])\n",
    "\n",
    "test_pred2 = np.argmax(test_pred, axis=1)\n",
    "\n",
    "#prediction result\n",
    "if test_pred2[0]==1:\n",
    "    print('Peptide derived from BAX is an AMP, and our prediction indicates it is.')\n",
    "else:\n",
    "    print('Peptide derived from BAX is an AMP, and our prediction indicates it is not.')"
   ]
  },
  {
   "cell_type": "markdown",
   "metadata": {},
   "source": [
    "## Conclusion\n",
    "Our first goal is achieved by building a 15 DNN model to reconigze AMP peptides with accuracy >91% on unseen test dataset. The next step of is work is to further classify the pore-forming mechanism (Toroidal vs. Barrel Stave Model) if a given peptide is recoginized as AMP. "
   ]
  },
  {
   "cell_type": "markdown",
   "metadata": {},
   "source": [
    "### Reference:\n",
    "[Deep learning improves antimicrobial peptide recognition](https://doi.org/10.1093/bioinformatics/bty179), \n",
    "Daniel Veltri, Uday Kamath, and Amarda Shehu, \n",
    "Bioinformatics, Volume 34, Issue 16, 15 August 2018, Pages 2740–2747\n"
   ]
  },
  {
   "cell_type": "code",
   "execution_count": null,
   "metadata": {},
   "outputs": [],
   "source": []
  }
 ],
 "metadata": {
  "kernelspec": {
   "display_name": "Python 3",
   "language": "python",
   "name": "python3"
  },
  "language_info": {
   "codemirror_mode": {
    "name": "ipython",
    "version": 3
   },
   "file_extension": ".py",
   "mimetype": "text/x-python",
   "name": "python",
   "nbconvert_exporter": "python",
   "pygments_lexer": "ipython3",
   "version": "3.7.3"
  }
 },
 "nbformat": 4,
 "nbformat_minor": 2
}
